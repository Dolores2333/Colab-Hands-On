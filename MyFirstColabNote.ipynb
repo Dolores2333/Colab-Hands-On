{
  "nbformat": 4,
  "nbformat_minor": 0,
  "metadata": {
    "colab": {
      "name": "MyFirstColabNote.ipynb",
      "provenance": [],
      "authorship_tag": "ABX9TyPyaWZStSin58YTfYKzbIQ4",
      "include_colab_link": true
    },
    "kernelspec": {
      "name": "python3",
      "display_name": "Python 3"
    }
  },
  "cells": [
    {
      "cell_type": "markdown",
      "metadata": {
        "id": "view-in-github",
        "colab_type": "text"
      },
      "source": [
        "<a href=\"https://colab.research.google.com/github/Dolores2333/Colab-Hands-On/blob/master/MyFirstColabNote.ipynb\" target=\"_parent\"><img src=\"https://colab.research.google.com/assets/colab-badge.svg\" alt=\"Open In Colab\"/></a>"
      ]
    },
    {
      "cell_type": "markdown",
      "metadata": {
        "id": "792k6WPTDTwY",
        "colab_type": "text"
      },
      "source": [
        "# A Gentle Attempt on Using Colab\n",
        "**2020/ 08/ 21**\n",
        "## Python Codes\n",
        "[Ref: Intro to Class in python](https://www.hackerearth.com/zh/practice/python/object-oriented-programming/classes-and-objects-i/tutorial/)\n",
        "### Create a Class Snake\n",
        "\n"
      ]
    },
    {
      "cell_type": "code",
      "metadata": {
        "id": "JcUFOhmME_f_",
        "colab_type": "code",
        "colab": {
          "base_uri": "https://localhost:8080/",
          "height": 197
        },
        "outputId": "d593c085-bc80-4561-d94e-271545619222"
      },
      "source": [
        "class Snake:\n",
        "  def __init__(self, name, age):\n",
        "    self.name = name\n",
        "    self.age = age\n",
        "\n",
        "  def change_name(self, new_name):\n",
        "    self.name = new_name\n",
        "\n",
        "  def grow_up(self, years):\n",
        "    self.age = self.age + years\n",
        "\n",
        "Python = Snake(\"Schnappi\", 2)\n",
        "Slytherin = Snake(\"Riddle\", 5)\n",
        "\n",
        "print(\"Python was called\", Python.name, \"who was\", Python.age, \"years old\")\n",
        "print(\"Slytherin was called\", Slytherin.name, \"who was\", Slytherin.age, \"years old\")\n",
        "print('\\n')\n",
        "\n",
        "Python.change_name(\"Anaconda\")\n",
        "Python.grow_up(3)\n",
        "Slytherin.change_name(\"Voldemort\")\n",
        "Slytherin.grow_up(3)\n",
        "\n",
        "print(\"Three years later, both of the two baby snakes have grown up now\")\n",
        "print(\"Python is called\", Python.name, \"at the age of\", Python.age)\n",
        "print(\"Slytherin is called\", Slytherin.name, \"at the age of\", Slytherin.age)\n",
        "print('\\n')\n",
        "print(\"They live happily together\")"
      ],
      "execution_count": 4,
      "outputs": [
        {
          "output_type": "stream",
          "text": [
            "Python was called Schnappi who was 2 years old\n",
            "Slytherin was called Riddle who was 5 years old\n",
            "\n",
            "\n",
            "Three years later, both of the two baby snakes have grown up now\n",
            "Python is called Anaconda at the age of 5\n",
            "Slytherin is called Voldemort at the age of 8\n",
            "\n",
            "\n",
            "They live happily together\n"
          ],
          "name": "stdout"
        }
      ]
    },
    {
      "cell_type": "markdown",
      "metadata": {
        "id": "WXZ7IX9vH1rF",
        "colab_type": "text"
      },
      "source": [
        "## Markdown\n",
        "### Take some simple examples\n",
        "\n",
        "**Is it a bold sentence?** <p>\n",
        "*Is it an italic sentence?* <p>\n",
        "_Do not know whether the underscore helps to make this sentence italic too?_ <p>\n",
        "~~It's a surprise that the double waves will strike though this sentence.~~ <p>\n",
        "`A pair of backtick makes this sentence looks like a line of code.`\n",
        "\n",
        "I hate the fact that no emoji is available in Colab QwQ."
      ]
    }
  ]
}